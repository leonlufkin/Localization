{
 "cells": [
  {
   "cell_type": "code",
   "execution_count": 1,
   "metadata": {},
   "outputs": [],
   "source": [
    "import jax\n",
    "import jax.numpy as jnp\n",
    "import optax\n",
    "\n",
    "# from nets import datasets\n",
    "from datasets.nonlinear_gp import NonlinearGPDataset\n",
    "from nets.launch import configs\n",
    "from nets.models.feedforward import MLP\n",
    "from models.feedforward import SimpleNet\n",
    "from nets import samplers\n",
    "# from nets.simulators.online_sgd import train_step, eval_step, evaluate, simulate\n",
    "from experiments.online_sgd import simulate\n",
    "# from nets.experiments.analyzable_online_sgd.launcher_local import SearchConfig"
   ]
  },
  {
   "cell_type": "code",
   "execution_count": 4,
   "metadata": {},
   "outputs": [],
   "source": [
    "from dataclasses import dataclass\n",
    "from dataclasses import field\n",
    "from nets.launch.hparams import Param\n",
    "from nets.launch.hparams import EnumParam\n",
    "from nets.launch.hparams import FixedParam\n",
    "\n",
    "@dataclass(frozen=True, kw_only=True)\n",
    "class SearchConfig(configs.Config):\n",
    "  \"\"\"Generic config for a hyperparameter search.\"\"\"\n",
    "\n",
    "  seed: Param = field(default_factory=lambda: FixedParam(0))\n",
    "\n",
    "  # Model params.\n",
    "  num_ins: Param = field(default_factory=lambda: FixedParam(10))\n",
    "  num_hiddens: Param = field(default_factory=lambda: FixedParam(8))\n",
    "  init_scale: Param = field(default_factory=lambda: FixedParam(1.0))\n",
    "\n",
    "  # Training and evaluation params.\n",
    "  optimizer_fn: Param = field(default_factory=lambda: FixedParam(optax.sgd))\n",
    "  learning_rate: Param = field(default_factory=lambda: FixedParam(1e-3))\n",
    "  batch_size: Param = field(default_factory=lambda: FixedParam(32))\n",
    "  num_epochs: Param = field(default_factory=lambda: FixedParam(5))\n",
    "\n",
    "  # Dataset params.\n",
    "  dataset_cls: Param = field(default_factory=lambda: FixedParam(NonlinearGPDataset))\n",
    "  xi1: Param = field(default_factory=lambda: FixedParam(0.1))\n",
    "  xi2: Param = field(default_factory=lambda: FixedParam(1.1))\n",
    "  gain: Param = field(default_factory=lambda: FixedParam(1.0))\n",
    "  num_dimensions: Param = field(default_factory=lambda: FixedParam(2))\n",
    "  sampler_cls: Param = field(default_factory=lambda: FixedParam(samplers.EpochSampler))\n",
    "  \n",
    "#   dataset_cls: Param = field(init=False)\n",
    "#   num_dimensions: Param = field(init=False)\n",
    "#   num_exemplars_per_class: Param = field(init=False)\n",
    "#   exemplar_noise_scale: Param = field(init=False)\n",
    "\n",
    "  # Sampler params.\n",
    "#   sampler_cls: Param = field(init=False)"
   ]
  },
  {
   "cell_type": "code",
   "execution_count": 5,
   "metadata": {},
   "outputs": [
    {
     "name": "stdout",
     "output_type": "stream",
     "text": [
      "Using JAX backend: cpu\n",
      "\n",
      "Using configuration:\n",
      "{'batch_size': 32,\n",
      " 'dataset_cls': <class 'datasets.nonlinear_gp.NonlinearGPDataset'>,\n",
      " 'gain': 1.0,\n",
      " 'init_scale': 0.1,\n",
      " 'learning_rate': 0.001,\n",
      " 'num_dimensions': 2,\n",
      " 'num_epochs': 5,\n",
      " 'num_hiddens': 4,\n",
      " 'num_ins': 10,\n",
      " 'optimizer_fn': <function sgd at 0x145adb9c0>,\n",
      " 'sampler_cls': <class 'nets.samplers.base.EpochSampler'>,\n",
      " 'seed': 0,\n",
      " 'xi1': 0.1,\n",
      " 'xi2': 1.1}\n",
      "\n",
      "Model:\n",
      "SimpleNet(\n",
      "  fc1=Linear(\n",
      "    weight=f32[4,10],\n",
      "    bias=f32[4],\n",
      "    in_features=10,\n",
      "    out_features=4,\n",
      "    use_bias=True\n",
      "  ),\n",
      "  act=<wrapped function <lambda>>\n",
      ")\n",
      "\n"
     ]
    },
    {
     "ename": "TypeError",
     "evalue": "Slice size at index 0 in gather op is out of range, must be within [0, 0 + 1), got 1.",
     "output_type": "error",
     "traceback": [
      "\u001b[0;31m---------------------------------------------------------------------------\u001b[0m",
      "\u001b[0;31mTypeError\u001b[0m                                 Traceback (most recent call last)",
      "\u001b[1;32m/Users/leonlufkin/Documents/GitHub/Localization/sandbox.ipynb Cell 3\u001b[0m line \u001b[0;36m3\n\u001b[1;32m      <a href='vscode-notebook-cell:/Users/leonlufkin/Documents/GitHub/Localization/sandbox.ipynb#W2sZmlsZQ%3D%3D?line=0'>1</a>\u001b[0m search_config \u001b[39m=\u001b[39m SearchConfig(key\u001b[39m=\u001b[39mjax\u001b[39m.\u001b[39mrandom\u001b[39m.\u001b[39mPRNGKey(\u001b[39m0\u001b[39m), num_configs\u001b[39m=\u001b[39m\u001b[39m1\u001b[39m, num_hiddens\u001b[39m=\u001b[39mFixedParam(\u001b[39m4\u001b[39m), init_scale\u001b[39m=\u001b[39mFixedParam(\u001b[39m0.1\u001b[39m))\n\u001b[1;32m      <a href='vscode-notebook-cell:/Users/leonlufkin/Documents/GitHub/Localization/sandbox.ipynb#W2sZmlsZQ%3D%3D?line=1'>2</a>\u001b[0m params \u001b[39m=\u001b[39m search_config\u001b[39m.\u001b[39m\u001b[39m__getitem__\u001b[39m(\u001b[39m0\u001b[39m)\n\u001b[0;32m----> <a href='vscode-notebook-cell:/Users/leonlufkin/Documents/GitHub/Localization/sandbox.ipynb#W2sZmlsZQ%3D%3D?line=2'>3</a>\u001b[0m simulate(\u001b[39m*\u001b[39;49m\u001b[39m*\u001b[39;49mparams)\n",
      "File \u001b[0;32m~/Documents/GitHub/Localization/experiments/online_sgd.py:312\u001b[0m, in \u001b[0;36msimulate\u001b[0;34m(seed, num_ins, num_hiddens, init_scale, optimizer_fn, learning_rate, batch_size, num_epochs, dataset_cls, xi1, xi2, gain, num_dimensions, sampler_cls)\u001b[0m\n\u001b[1;32m    308\u001b[0m itercount \u001b[39m=\u001b[39m itertools\u001b[39m.\u001b[39mcount()\n\u001b[1;32m    310\u001b[0m \u001b[39m# Evaluate before starting training.\u001b[39;00m\n\u001b[1;32m    311\u001b[0m metrics\u001b[39m.\u001b[39mappend(\n\u001b[0;32m--> 312\u001b[0m   evaluate(\n\u001b[1;32m    313\u001b[0m     iteration\u001b[39m=\u001b[39;49m\u001b[39m0\u001b[39;49m,\n\u001b[1;32m    314\u001b[0m     dataset_split\u001b[39m=\u001b[39;49m\u001b[39m\"\u001b[39;49m\u001b[39meval\u001b[39;49m\u001b[39m\"\u001b[39;49m,\n\u001b[1;32m    315\u001b[0m     sampler\u001b[39m=\u001b[39;49msampler,\n\u001b[1;32m    316\u001b[0m     model\u001b[39m=\u001b[39;49meqx\u001b[39m.\u001b[39;49mtree_inference(model, \u001b[39mTrue\u001b[39;49;00m),\n\u001b[1;32m    317\u001b[0m     key\u001b[39m=\u001b[39;49meval_key,\n\u001b[1;32m    318\u001b[0m     batch_size\u001b[39m=\u001b[39;49mbatch_size,\n\u001b[1;32m    319\u001b[0m   )\n\u001b[1;32m    320\u001b[0m )\n\u001b[1;32m    322\u001b[0m \u001b[39m# Training starts at iteration 1.\u001b[39;00m\n\u001b[1;32m    323\u001b[0m \u001b[39mnext\u001b[39m(itercount)\n",
      "File \u001b[0;32m~/Documents/GitHub/Localization/experiments/online_sgd.py:192\u001b[0m, in \u001b[0;36mevaluate\u001b[0;34m(iteration, dataset_split, key, model, sampler, batch_size)\u001b[0m\n\u001b[1;32m    184\u001b[0m \u001b[39m# Probing metric shapes.\u001b[39;00m\n\u001b[1;32m    185\u001b[0m num_examples \u001b[39m=\u001b[39m \u001b[39mlen\u001b[39m(sampler)\n\u001b[1;32m    186\u001b[0m incremental_metrics \u001b[39m=\u001b[39m \u001b[39mdict\u001b[39m(\n\u001b[1;32m    187\u001b[0m   (\n\u001b[1;32m    188\u001b[0m     metric_name,\n\u001b[1;32m    189\u001b[0m     np\u001b[39m.\u001b[39mrepeat(np\u001b[39m.\u001b[39mempty_like(metric_value), repeats\u001b[39m=\u001b[39mnum_examples, axis\u001b[39m=\u001b[39m\u001b[39m0\u001b[39m),\n\u001b[1;32m    190\u001b[0m   )\n\u001b[1;32m    191\u001b[0m   \u001b[39mfor\u001b[39;00m metric_name, metric_value \u001b[39min\u001b[39;00m _eval_step(\n\u001b[0;32m--> 192\u001b[0m     sampler[:\u001b[39m1\u001b[39;49m][\u001b[39m0\u001b[39m], sampler[:\u001b[39m1\u001b[39m][\u001b[39m1\u001b[39m], key[jnp\u001b[39m.\u001b[39mnewaxis]\n\u001b[1;32m    193\u001b[0m   )\u001b[39m.\u001b[39mitems()\n\u001b[1;32m    194\u001b[0m )\n\u001b[1;32m    196\u001b[0m \u001b[39mprint\u001b[39m(\u001b[39m\"\u001b[39m\u001b[39mStarting evaluation...\u001b[39m\u001b[39m\"\u001b[39m)\n\u001b[1;32m    197\u001b[0m start \u001b[39m=\u001b[39m time\u001b[39m.\u001b[39mtime()\n",
      "File \u001b[0;32m~/opt/anaconda3/envs/ML/lib/python3.11/site-packages/nets/samplers/base.py:218\u001b[0m, in \u001b[0;36mEpochSampler.__getitem__\u001b[0;34m(self, index)\u001b[0m\n\u001b[1;32m    215\u001b[0m   \u001b[39mraise\u001b[39;00m \u001b[39mStopIteration\u001b[39;00m(\u001b[39m\"\u001b[39m\u001b[39mReached the end of data generation.\u001b[39m\u001b[39m\"\u001b[39m)\n\u001b[1;32m    217\u001b[0m epoch_key \u001b[39m=\u001b[39m jax\u001b[39m.\u001b[39mrandom\u001b[39m.\u001b[39mfold_in(\u001b[39mself\u001b[39m\u001b[39m.\u001b[39mkey, epoch_idx)\n\u001b[0;32m--> 218\u001b[0m permuted_index \u001b[39m=\u001b[39m jax\u001b[39m.\u001b[39;49mrandom\u001b[39m.\u001b[39;49mpermutation(\n\u001b[1;32m    219\u001b[0m   epoch_key,\n\u001b[1;32m    220\u001b[0m   jnp\u001b[39m.\u001b[39;49marange(\u001b[39mself\u001b[39;49m\u001b[39m.\u001b[39;49mdataset_size),\n\u001b[1;32m    221\u001b[0m )[index_in_epoch]\n\u001b[1;32m    223\u001b[0m \u001b[39mreturn\u001b[39;00m \u001b[39mself\u001b[39m\u001b[39m.\u001b[39mdataset[permuted_index]\n",
      "File \u001b[0;32m~/opt/anaconda3/envs/ML/lib/python3.11/site-packages/jax/_src/array.py:319\u001b[0m, in \u001b[0;36mArrayImpl.__getitem__\u001b[0;34m(self, idx)\u001b[0m\n\u001b[1;32m    317\u001b[0m   \u001b[39mreturn\u001b[39;00m lax_numpy\u001b[39m.\u001b[39m_rewriting_take(\u001b[39mself\u001b[39m, idx)\n\u001b[1;32m    318\u001b[0m \u001b[39melse\u001b[39;00m:\n\u001b[0;32m--> 319\u001b[0m   \u001b[39mreturn\u001b[39;00m lax_numpy\u001b[39m.\u001b[39;49m_rewriting_take(\u001b[39mself\u001b[39;49m, idx)\n",
      "File \u001b[0;32m~/opt/anaconda3/envs/ML/lib/python3.11/site-packages/jax/_src/numpy/lax_numpy.py:4153\u001b[0m, in \u001b[0;36m_rewriting_take\u001b[0;34m(arr, idx, indices_are_sorted, unique_indices, mode, fill_value)\u001b[0m\n\u001b[1;32m   4150\u001b[0m       \u001b[39mreturn\u001b[39;00m lax\u001b[39m.\u001b[39mdynamic_index_in_dim(arr, idx, keepdims\u001b[39m=\u001b[39m\u001b[39mFalse\u001b[39;00m)\n\u001b[1;32m   4152\u001b[0m treedef, static_idx, dynamic_idx \u001b[39m=\u001b[39m _split_index_for_jit(idx, arr\u001b[39m.\u001b[39mshape)\n\u001b[0;32m-> 4153\u001b[0m \u001b[39mreturn\u001b[39;00m _gather(arr, treedef, static_idx, dynamic_idx, indices_are_sorted,\n\u001b[1;32m   4154\u001b[0m                unique_indices, mode, fill_value)\n",
      "File \u001b[0;32m~/opt/anaconda3/envs/ML/lib/python3.11/site-packages/jax/_src/numpy/lax_numpy.py:4180\u001b[0m, in \u001b[0;36m_gather\u001b[0;34m(arr, treedef, static_idx, dynamic_idx, indices_are_sorted, unique_indices, mode, fill_value)\u001b[0m\n\u001b[1;32m   4178\u001b[0m \u001b[39m# We avoid generating a gather when indexer.gather_indices.size is empty.\u001b[39;00m\n\u001b[1;32m   4179\u001b[0m \u001b[39mif\u001b[39;00m \u001b[39mnot\u001b[39;00m core\u001b[39m.\u001b[39mis_empty_shape(indexer\u001b[39m.\u001b[39mgather_indices\u001b[39m.\u001b[39mshape):\n\u001b[0;32m-> 4180\u001b[0m   y \u001b[39m=\u001b[39m lax\u001b[39m.\u001b[39;49mgather(\n\u001b[1;32m   4181\u001b[0m     y, indexer\u001b[39m.\u001b[39;49mgather_indices, indexer\u001b[39m.\u001b[39;49mdnums, indexer\u001b[39m.\u001b[39;49mgather_slice_shape,\n\u001b[1;32m   4182\u001b[0m     unique_indices\u001b[39m=\u001b[39;49munique_indices \u001b[39mor\u001b[39;49;00m indexer\u001b[39m.\u001b[39;49munique_indices,\n\u001b[1;32m   4183\u001b[0m     indices_are_sorted\u001b[39m=\u001b[39;49mindices_are_sorted \u001b[39mor\u001b[39;49;00m indexer\u001b[39m.\u001b[39;49mindices_are_sorted,\n\u001b[1;32m   4184\u001b[0m     mode\u001b[39m=\u001b[39;49mmode, fill_value\u001b[39m=\u001b[39;49mfill_value)\n\u001b[1;32m   4186\u001b[0m \u001b[39m# Reverses axes with negative strides.\u001b[39;00m\n\u001b[1;32m   4187\u001b[0m \u001b[39mif\u001b[39;00m indexer\u001b[39m.\u001b[39mreversed_y_dims:\n",
      "File \u001b[0;32m~/opt/anaconda3/envs/ML/lib/python3.11/site-packages/jax/_src/lax/slicing.py:344\u001b[0m, in \u001b[0;36mgather\u001b[0;34m(operand, start_indices, dimension_numbers, slice_sizes, unique_indices, indices_are_sorted, mode, fill_value)\u001b[0m\n\u001b[1;32m    342\u001b[0m \u001b[39melse\u001b[39;00m:\n\u001b[1;32m    343\u001b[0m   fill_value \u001b[39m=\u001b[39m \u001b[39mNone\u001b[39;00m\n\u001b[0;32m--> 344\u001b[0m \u001b[39mreturn\u001b[39;00m gather_p\u001b[39m.\u001b[39;49mbind(\n\u001b[1;32m    345\u001b[0m     operand, start_indices, dimension_numbers\u001b[39m=\u001b[39;49mdimension_numbers,\n\u001b[1;32m    346\u001b[0m     slice_sizes\u001b[39m=\u001b[39;49mcore\u001b[39m.\u001b[39;49mcanonicalize_shape(slice_sizes),\n\u001b[1;32m    347\u001b[0m     unique_indices\u001b[39m=\u001b[39;49m\u001b[39mbool\u001b[39;49m(unique_indices),\n\u001b[1;32m    348\u001b[0m     indices_are_sorted\u001b[39m=\u001b[39;49m\u001b[39mbool\u001b[39;49m(indices_are_sorted),\n\u001b[1;32m    349\u001b[0m     mode\u001b[39m=\u001b[39;49mparsed_mode,\n\u001b[1;32m    350\u001b[0m     fill_value\u001b[39m=\u001b[39;49mfill_value)\n",
      "File \u001b[0;32m~/opt/anaconda3/envs/ML/lib/python3.11/site-packages/jax/_src/core.py:386\u001b[0m, in \u001b[0;36mPrimitive.bind\u001b[0;34m(self, *args, **params)\u001b[0m\n\u001b[1;32m    383\u001b[0m \u001b[39mdef\u001b[39;00m \u001b[39mbind\u001b[39m(\u001b[39mself\u001b[39m, \u001b[39m*\u001b[39margs, \u001b[39m*\u001b[39m\u001b[39m*\u001b[39mparams):\n\u001b[1;32m    384\u001b[0m   \u001b[39massert\u001b[39;00m (\u001b[39mnot\u001b[39;00m config\u001b[39m.\u001b[39mjax_enable_checks \u001b[39mor\u001b[39;00m\n\u001b[1;32m    385\u001b[0m           \u001b[39mall\u001b[39m(\u001b[39misinstance\u001b[39m(arg, Tracer) \u001b[39mor\u001b[39;00m valid_jaxtype(arg) \u001b[39mfor\u001b[39;00m arg \u001b[39min\u001b[39;00m args)), args\n\u001b[0;32m--> 386\u001b[0m   \u001b[39mreturn\u001b[39;00m \u001b[39mself\u001b[39;49m\u001b[39m.\u001b[39;49mbind_with_trace(find_top_trace(args), args, params)\n",
      "File \u001b[0;32m~/opt/anaconda3/envs/ML/lib/python3.11/site-packages/jax/_src/core.py:389\u001b[0m, in \u001b[0;36mPrimitive.bind_with_trace\u001b[0;34m(self, trace, args, params)\u001b[0m\n\u001b[1;32m    388\u001b[0m \u001b[39mdef\u001b[39;00m \u001b[39mbind_with_trace\u001b[39m(\u001b[39mself\u001b[39m, trace, args, params):\n\u001b[0;32m--> 389\u001b[0m   out \u001b[39m=\u001b[39m trace\u001b[39m.\u001b[39;49mprocess_primitive(\u001b[39mself\u001b[39;49m, \u001b[39mmap\u001b[39;49m(trace\u001b[39m.\u001b[39;49mfull_raise, args), params)\n\u001b[1;32m    390\u001b[0m   \u001b[39mreturn\u001b[39;00m \u001b[39mmap\u001b[39m(full_lower, out) \u001b[39mif\u001b[39;00m \u001b[39mself\u001b[39m\u001b[39m.\u001b[39mmultiple_results \u001b[39melse\u001b[39;00m full_lower(out)\n",
      "File \u001b[0;32m~/opt/anaconda3/envs/ML/lib/python3.11/site-packages/jax/_src/core.py:821\u001b[0m, in \u001b[0;36mEvalTrace.process_primitive\u001b[0;34m(self, primitive, tracers, params)\u001b[0m\n\u001b[1;32m    820\u001b[0m \u001b[39mdef\u001b[39;00m \u001b[39mprocess_primitive\u001b[39m(\u001b[39mself\u001b[39m, primitive, tracers, params):\n\u001b[0;32m--> 821\u001b[0m   \u001b[39mreturn\u001b[39;00m primitive\u001b[39m.\u001b[39;49mimpl(\u001b[39m*\u001b[39;49mtracers, \u001b[39m*\u001b[39;49m\u001b[39m*\u001b[39;49mparams)\n",
      "File \u001b[0;32m~/opt/anaconda3/envs/ML/lib/python3.11/site-packages/jax/_src/dispatch.py:131\u001b[0m, in \u001b[0;36mapply_primitive\u001b[0;34m(prim, *args, **params)\u001b[0m\n\u001b[1;32m    129\u001b[0m \u001b[39mtry\u001b[39;00m:\n\u001b[1;32m    130\u001b[0m   in_avals, in_shardings \u001b[39m=\u001b[39m util\u001b[39m.\u001b[39munzip2([arg_spec(a) \u001b[39mfor\u001b[39;00m a \u001b[39min\u001b[39;00m args])\n\u001b[0;32m--> 131\u001b[0m   compiled_fun \u001b[39m=\u001b[39m xla_primitive_callable(\n\u001b[1;32m    132\u001b[0m       prim, in_avals, OrigShardings(in_shardings), \u001b[39m*\u001b[39;49m\u001b[39m*\u001b[39;49mparams)\n\u001b[1;32m    133\u001b[0m \u001b[39mexcept\u001b[39;00m pxla\u001b[39m.\u001b[39mDeviceAssignmentMismatchError \u001b[39mas\u001b[39;00m e:\n\u001b[1;32m    134\u001b[0m   fails, \u001b[39m=\u001b[39m e\u001b[39m.\u001b[39margs\n",
      "File \u001b[0;32m~/opt/anaconda3/envs/ML/lib/python3.11/site-packages/jax/_src/util.py:263\u001b[0m, in \u001b[0;36mcache.<locals>.wrap.<locals>.wrapper\u001b[0;34m(*args, **kwargs)\u001b[0m\n\u001b[1;32m    261\u001b[0m   \u001b[39mreturn\u001b[39;00m f(\u001b[39m*\u001b[39margs, \u001b[39m*\u001b[39m\u001b[39m*\u001b[39mkwargs)\n\u001b[1;32m    262\u001b[0m \u001b[39melse\u001b[39;00m:\n\u001b[0;32m--> 263\u001b[0m   \u001b[39mreturn\u001b[39;00m cached(config\u001b[39m.\u001b[39;49m_trace_context(), \u001b[39m*\u001b[39;49margs, \u001b[39m*\u001b[39;49m\u001b[39m*\u001b[39;49mkwargs)\n",
      "File \u001b[0;32m~/opt/anaconda3/envs/ML/lib/python3.11/site-packages/jax/_src/util.py:256\u001b[0m, in \u001b[0;36mcache.<locals>.wrap.<locals>.cached\u001b[0;34m(_, *args, **kwargs)\u001b[0m\n\u001b[1;32m    254\u001b[0m \u001b[39m@functools\u001b[39m\u001b[39m.\u001b[39mlru_cache(max_size)\n\u001b[1;32m    255\u001b[0m \u001b[39mdef\u001b[39;00m \u001b[39mcached\u001b[39m(_, \u001b[39m*\u001b[39margs, \u001b[39m*\u001b[39m\u001b[39m*\u001b[39mkwargs):\n\u001b[0;32m--> 256\u001b[0m   \u001b[39mreturn\u001b[39;00m f(\u001b[39m*\u001b[39;49margs, \u001b[39m*\u001b[39;49m\u001b[39m*\u001b[39;49mkwargs)\n",
      "File \u001b[0;32m~/opt/anaconda3/envs/ML/lib/python3.11/site-packages/jax/_src/dispatch.py:222\u001b[0m, in \u001b[0;36mxla_primitive_callable\u001b[0;34m(prim, in_avals, orig_in_shardings, **params)\u001b[0m\n\u001b[1;32m    220\u001b[0m     \u001b[39mreturn\u001b[39;00m out,\n\u001b[1;32m    221\u001b[0m donated_invars \u001b[39m=\u001b[39m (\u001b[39mFalse\u001b[39;00m,) \u001b[39m*\u001b[39m \u001b[39mlen\u001b[39m(in_avals)\n\u001b[0;32m--> 222\u001b[0m compiled \u001b[39m=\u001b[39m _xla_callable_uncached(\n\u001b[1;32m    223\u001b[0m     lu\u001b[39m.\u001b[39;49mwrap_init(prim_fun), prim\u001b[39m.\u001b[39;49mname, donated_invars, \u001b[39mFalse\u001b[39;49;00m, in_avals,\n\u001b[1;32m    224\u001b[0m     orig_in_shardings)\n\u001b[1;32m    225\u001b[0m \u001b[39mif\u001b[39;00m \u001b[39mnot\u001b[39;00m prim\u001b[39m.\u001b[39mmultiple_results:\n\u001b[1;32m    226\u001b[0m   \u001b[39mreturn\u001b[39;00m \u001b[39mlambda\u001b[39;00m \u001b[39m*\u001b[39margs, \u001b[39m*\u001b[39m\u001b[39m*\u001b[39mkw: compiled(\u001b[39m*\u001b[39margs, \u001b[39m*\u001b[39m\u001b[39m*\u001b[39mkw)[\u001b[39m0\u001b[39m]\n",
      "File \u001b[0;32m~/opt/anaconda3/envs/ML/lib/python3.11/site-packages/jax/_src/dispatch.py:249\u001b[0m, in \u001b[0;36m_xla_callable_uncached\u001b[0;34m(fun, name, donated_invars, keep_unused, in_avals, orig_in_shardings)\u001b[0m\n\u001b[1;32m    247\u001b[0m \u001b[39mdef\u001b[39;00m \u001b[39m_xla_callable_uncached\u001b[39m(fun: lu\u001b[39m.\u001b[39mWrappedFun, name, donated_invars,\n\u001b[1;32m    248\u001b[0m                            keep_unused, in_avals, orig_in_shardings):\n\u001b[0;32m--> 249\u001b[0m   computation \u001b[39m=\u001b[39m sharded_lowering(\n\u001b[1;32m    250\u001b[0m       fun, name, donated_invars, keep_unused, \u001b[39mTrue\u001b[39;49;00m, in_avals, orig_in_shardings,\n\u001b[1;32m    251\u001b[0m       lowering_platform\u001b[39m=\u001b[39;49m\u001b[39mNone\u001b[39;49;00m)\n\u001b[1;32m    252\u001b[0m   \u001b[39mreturn\u001b[39;00m computation\u001b[39m.\u001b[39mcompile()\u001b[39m.\u001b[39munsafe_call\n",
      "File \u001b[0;32m~/opt/anaconda3/envs/ML/lib/python3.11/site-packages/jax/_src/dispatch.py:241\u001b[0m, in \u001b[0;36msharded_lowering\u001b[0;34m(fun, name, donated_invars, keep_unused, inline, in_avals, in_shardings, lowering_platform)\u001b[0m\n\u001b[1;32m    236\u001b[0m in_shardings \u001b[39m=\u001b[39m [UNSPECIFIED \u001b[39mif\u001b[39;00m i \u001b[39mis\u001b[39;00m \u001b[39mNone\u001b[39;00m \u001b[39melse\u001b[39;00m i \u001b[39mfor\u001b[39;00m i \u001b[39min\u001b[39;00m in_shardings]  \u001b[39m# type: ignore\u001b[39;00m\n\u001b[1;32m    238\u001b[0m \u001b[39m# Pass in a singleton `UNSPECIFIED` for out_shardings because we don't know\u001b[39;00m\n\u001b[1;32m    239\u001b[0m \u001b[39m# the number of output avals at this stage. lower_sharding_computation will\u001b[39;00m\n\u001b[1;32m    240\u001b[0m \u001b[39m# apply it to all out_avals.\u001b[39;00m\n\u001b[0;32m--> 241\u001b[0m \u001b[39mreturn\u001b[39;00m pxla\u001b[39m.\u001b[39;49mlower_sharding_computation(\n\u001b[1;32m    242\u001b[0m     fun, \u001b[39m'\u001b[39;49m\u001b[39mjit\u001b[39;49m\u001b[39m'\u001b[39;49m, name, in_shardings, UNSPECIFIED, donated_invars,\n\u001b[1;32m    243\u001b[0m     \u001b[39mtuple\u001b[39;49m(in_avals), keep_unused\u001b[39m=\u001b[39;49mkeep_unused, inline\u001b[39m=\u001b[39;49minline, always_lower\u001b[39m=\u001b[39;49m\u001b[39mFalse\u001b[39;49;00m,\n\u001b[1;32m    244\u001b[0m     devices_from_context\u001b[39m=\u001b[39;49m\u001b[39mNone\u001b[39;49;00m, lowering_platform\u001b[39m=\u001b[39;49mlowering_platform)\n",
      "File \u001b[0;32m~/opt/anaconda3/envs/ML/lib/python3.11/site-packages/jax/_src/profiler.py:314\u001b[0m, in \u001b[0;36mannotate_function.<locals>.wrapper\u001b[0;34m(*args, **kwargs)\u001b[0m\n\u001b[1;32m    311\u001b[0m \u001b[39m@wraps\u001b[39m(func)\n\u001b[1;32m    312\u001b[0m \u001b[39mdef\u001b[39;00m \u001b[39mwrapper\u001b[39m(\u001b[39m*\u001b[39margs, \u001b[39m*\u001b[39m\u001b[39m*\u001b[39mkwargs):\n\u001b[1;32m    313\u001b[0m   \u001b[39mwith\u001b[39;00m TraceAnnotation(name, \u001b[39m*\u001b[39m\u001b[39m*\u001b[39mdecorator_kwargs):\n\u001b[0;32m--> 314\u001b[0m     \u001b[39mreturn\u001b[39;00m func(\u001b[39m*\u001b[39;49margs, \u001b[39m*\u001b[39;49m\u001b[39m*\u001b[39;49mkwargs)\n\u001b[1;32m    315\u001b[0m   \u001b[39mreturn\u001b[39;00m wrapper\n",
      "File \u001b[0;32m~/opt/anaconda3/envs/ML/lib/python3.11/site-packages/jax/_src/interpreters/pxla.py:1899\u001b[0m, in \u001b[0;36mlower_sharding_computation\u001b[0;34m(fun_or_jaxpr, api_name, fun_name, in_shardings, out_shardings, donated_invars, global_in_avals, keep_unused, inline, always_lower, devices_from_context, lowering_platform, override_lowering_rules)\u001b[0m\n\u001b[1;32m   1893\u001b[0m \u001b[39m# 1. Trace to jaxpr and preprocess/verify it\u001b[39;00m\n\u001b[1;32m   1894\u001b[0m auto_spmd_lowering \u001b[39m=\u001b[39m (\n\u001b[1;32m   1895\u001b[0m     check_if_any_auto(in_shardings) \u001b[39mif\u001b[39;00m is_unspecified(out_shardings) \u001b[39melse\u001b[39;00m\n\u001b[1;32m   1896\u001b[0m     check_if_any_auto(it\u001b[39m.\u001b[39mchain\u001b[39m.\u001b[39mfrom_iterable([in_shardings, out_shardings])))  \u001b[39m# type: ignore\u001b[39;00m\n\u001b[1;32m   1898\u001b[0m (closed_jaxpr, global_in_avals, global_out_avals, donated_invars,\n\u001b[0;32m-> 1899\u001b[0m  kept_var_idx, name_stack) \u001b[39m=\u001b[39m _trace_to_jaxpr_and_dce(\n\u001b[1;32m   1900\u001b[0m     fun_or_jaxpr, global_in_avals, api_name, fun_name, keep_unused,\n\u001b[1;32m   1901\u001b[0m     donated_invars, auto_spmd_lowering)\n\u001b[1;32m   1902\u001b[0m jaxpr \u001b[39m=\u001b[39m closed_jaxpr\u001b[39m.\u001b[39mjaxpr\n\u001b[1;32m   1903\u001b[0m in_shardings \u001b[39m=\u001b[39m \u001b[39mtuple\u001b[39m(s \u001b[39mfor\u001b[39;00m i, s \u001b[39min\u001b[39;00m \u001b[39menumerate\u001b[39m(in_shardings) \u001b[39mif\u001b[39;00m i \u001b[39min\u001b[39;00m kept_var_idx)\n",
      "File \u001b[0;32m~/opt/anaconda3/envs/ML/lib/python3.11/site-packages/jax/_src/interpreters/pxla.py:1692\u001b[0m, in \u001b[0;36mcache_wrap.<locals>.wrapped\u001b[0;34m(f, *args, **kwargs)\u001b[0m\n\u001b[1;32m   1690\u001b[0m \u001b[39mdef\u001b[39;00m \u001b[39mwrapped\u001b[39m(f, \u001b[39m*\u001b[39margs, \u001b[39m*\u001b[39m\u001b[39m*\u001b[39mkwargs):\n\u001b[1;32m   1691\u001b[0m   \u001b[39mif\u001b[39;00m \u001b[39misinstance\u001b[39m(f, lu\u001b[39m.\u001b[39mWrappedFun):\n\u001b[0;32m-> 1692\u001b[0m     \u001b[39mreturn\u001b[39;00m _wrapped_with_lu_cache(f, \u001b[39m*\u001b[39;49margs, \u001b[39m*\u001b[39;49m\u001b[39m*\u001b[39;49mkwargs)\n\u001b[1;32m   1693\u001b[0m   \u001b[39melse\u001b[39;00m:\n\u001b[1;32m   1694\u001b[0m     \u001b[39mreturn\u001b[39;00m _wrapped_with_weakref_lru_cache(f, \u001b[39m*\u001b[39margs, \u001b[39m*\u001b[39m\u001b[39m*\u001b[39mkwargs)\n",
      "File \u001b[0;32m~/opt/anaconda3/envs/ML/lib/python3.11/site-packages/jax/_src/linear_util.py:345\u001b[0m, in \u001b[0;36mcache.<locals>.memoized_fun\u001b[0;34m(fun, *args)\u001b[0m\n\u001b[1;32m    343\u001b[0m   fun\u001b[39m.\u001b[39mpopulate_stores(stores)\n\u001b[1;32m    344\u001b[0m \u001b[39melse\u001b[39;00m:\n\u001b[0;32m--> 345\u001b[0m   ans \u001b[39m=\u001b[39m call(fun, \u001b[39m*\u001b[39;49margs)\n\u001b[1;32m    346\u001b[0m   cache[key] \u001b[39m=\u001b[39m (ans, fun\u001b[39m.\u001b[39mstores)\n\u001b[1;32m    348\u001b[0m \u001b[39mreturn\u001b[39;00m ans\n",
      "File \u001b[0;32m~/opt/anaconda3/envs/ML/lib/python3.11/site-packages/jax/_src/interpreters/pxla.py:1707\u001b[0m, in \u001b[0;36m_trace_to_jaxpr_and_dce\u001b[0;34m(fun_or_jaxpr, global_in_avals, api_name, fun_name, keep_unused, donated_invars, auto_spmd_lowering)\u001b[0m\n\u001b[1;32m   1703\u001b[0m \u001b[39mif\u001b[39;00m \u001b[39misinstance\u001b[39m(fun_or_jaxpr, lu\u001b[39m.\u001b[39mWrappedFun):\n\u001b[1;32m   1704\u001b[0m   \u001b[39mwith\u001b[39;00m dispatch\u001b[39m.\u001b[39mlog_elapsed_time(\n\u001b[1;32m   1705\u001b[0m       \u001b[39m\"\u001b[39m\u001b[39mFinished tracing + transforming \u001b[39m\u001b[39m{fun_name}\u001b[39;00m\u001b[39m in \u001b[39m\u001b[39m{elapsed_time}\u001b[39;00m\u001b[39m sec\u001b[39m\u001b[39m\"\u001b[39m,\n\u001b[1;32m   1706\u001b[0m       fun_name\u001b[39m=\u001b[39m\u001b[39mstr\u001b[39m(name_stack), event\u001b[39m=\u001b[39mdispatch\u001b[39m.\u001b[39mJAXPR_TRACE_EVENT):\n\u001b[0;32m-> 1707\u001b[0m     jaxpr, global_out_avals, consts \u001b[39m=\u001b[39m pe\u001b[39m.\u001b[39;49mtrace_to_jaxpr_final(\n\u001b[1;32m   1708\u001b[0m         fun_or_jaxpr, global_in_avals)\n\u001b[1;32m   1709\u001b[0m \u001b[39melse\u001b[39;00m:\n\u001b[1;32m   1710\u001b[0m   \u001b[39massert\u001b[39;00m \u001b[39misinstance\u001b[39m(fun_or_jaxpr, core\u001b[39m.\u001b[39mClosedJaxpr)\n",
      "File \u001b[0;32m~/opt/anaconda3/envs/ML/lib/python3.11/site-packages/jax/_src/profiler.py:314\u001b[0m, in \u001b[0;36mannotate_function.<locals>.wrapper\u001b[0;34m(*args, **kwargs)\u001b[0m\n\u001b[1;32m    311\u001b[0m \u001b[39m@wraps\u001b[39m(func)\n\u001b[1;32m    312\u001b[0m \u001b[39mdef\u001b[39;00m \u001b[39mwrapper\u001b[39m(\u001b[39m*\u001b[39margs, \u001b[39m*\u001b[39m\u001b[39m*\u001b[39mkwargs):\n\u001b[1;32m    313\u001b[0m   \u001b[39mwith\u001b[39;00m TraceAnnotation(name, \u001b[39m*\u001b[39m\u001b[39m*\u001b[39mdecorator_kwargs):\n\u001b[0;32m--> 314\u001b[0m     \u001b[39mreturn\u001b[39;00m func(\u001b[39m*\u001b[39;49margs, \u001b[39m*\u001b[39;49m\u001b[39m*\u001b[39;49mkwargs)\n\u001b[1;32m    315\u001b[0m   \u001b[39mreturn\u001b[39;00m wrapper\n",
      "File \u001b[0;32m~/opt/anaconda3/envs/ML/lib/python3.11/site-packages/jax/_src/interpreters/partial_eval.py:2233\u001b[0m, in \u001b[0;36mtrace_to_jaxpr_final\u001b[0;34m(fun, in_avals, debug_info, keep_inputs)\u001b[0m\n\u001b[1;32m   2231\u001b[0m   main\u001b[39m.\u001b[39mjaxpr_stack \u001b[39m=\u001b[39m ()  \u001b[39m# type: ignore\u001b[39;00m\n\u001b[1;32m   2232\u001b[0m   \u001b[39mwith\u001b[39;00m core\u001b[39m.\u001b[39mnew_sublevel():\n\u001b[0;32m-> 2233\u001b[0m     jaxpr, out_avals, consts \u001b[39m=\u001b[39m trace_to_subjaxpr_dynamic(\n\u001b[1;32m   2234\u001b[0m       fun, main, in_avals, keep_inputs\u001b[39m=\u001b[39;49mkeep_inputs, debug_info\u001b[39m=\u001b[39;49mdebug_info)\n\u001b[1;32m   2235\u001b[0m   \u001b[39mdel\u001b[39;00m fun, main\n\u001b[1;32m   2236\u001b[0m \u001b[39mreturn\u001b[39;00m jaxpr, out_avals, consts\n",
      "File \u001b[0;32m~/opt/anaconda3/envs/ML/lib/python3.11/site-packages/jax/_src/interpreters/partial_eval.py:2177\u001b[0m, in \u001b[0;36mtrace_to_subjaxpr_dynamic\u001b[0;34m(fun, main, in_avals, keep_inputs, debug_info)\u001b[0m\n\u001b[1;32m   2175\u001b[0m in_tracers \u001b[39m=\u001b[39m _input_type_to_tracers(trace\u001b[39m.\u001b[39mnew_arg, in_avals)\n\u001b[1;32m   2176\u001b[0m in_tracers_ \u001b[39m=\u001b[39m [t \u001b[39mfor\u001b[39;00m t, keep \u001b[39min\u001b[39;00m \u001b[39mzip\u001b[39m(in_tracers, keep_inputs) \u001b[39mif\u001b[39;00m keep]\n\u001b[0;32m-> 2177\u001b[0m ans \u001b[39m=\u001b[39m fun\u001b[39m.\u001b[39;49mcall_wrapped(\u001b[39m*\u001b[39;49min_tracers_)\n\u001b[1;32m   2178\u001b[0m out_tracers \u001b[39m=\u001b[39m \u001b[39mmap\u001b[39m(trace\u001b[39m.\u001b[39mfull_raise, ans)\n\u001b[1;32m   2179\u001b[0m jaxpr, consts \u001b[39m=\u001b[39m frame\u001b[39m.\u001b[39mto_jaxpr(out_tracers)\n",
      "File \u001b[0;32m~/opt/anaconda3/envs/ML/lib/python3.11/site-packages/jax/_src/linear_util.py:188\u001b[0m, in \u001b[0;36mWrappedFun.call_wrapped\u001b[0;34m(self, *args, **kwargs)\u001b[0m\n\u001b[1;32m    185\u001b[0m gen \u001b[39m=\u001b[39m gen_static_args \u001b[39m=\u001b[39m out_store \u001b[39m=\u001b[39m \u001b[39mNone\u001b[39;00m\n\u001b[1;32m    187\u001b[0m \u001b[39mtry\u001b[39;00m:\n\u001b[0;32m--> 188\u001b[0m   ans \u001b[39m=\u001b[39m \u001b[39mself\u001b[39;49m\u001b[39m.\u001b[39;49mf(\u001b[39m*\u001b[39;49margs, \u001b[39m*\u001b[39;49m\u001b[39m*\u001b[39;49m\u001b[39mdict\u001b[39;49m(\u001b[39mself\u001b[39;49m\u001b[39m.\u001b[39;49mparams, \u001b[39m*\u001b[39;49m\u001b[39m*\u001b[39;49mkwargs))\n\u001b[1;32m    189\u001b[0m \u001b[39mexcept\u001b[39;00m:\n\u001b[1;32m    190\u001b[0m   \u001b[39m# Some transformations yield from inside context managers, so we have to\u001b[39;00m\n\u001b[1;32m    191\u001b[0m   \u001b[39m# interrupt them before reraising the exception. Otherwise they will only\u001b[39;00m\n\u001b[1;32m    192\u001b[0m   \u001b[39m# get garbage-collected at some later time, running their cleanup tasks\u001b[39;00m\n\u001b[1;32m    193\u001b[0m   \u001b[39m# only after this exception is handled, which can corrupt the global\u001b[39;00m\n\u001b[1;32m    194\u001b[0m   \u001b[39m# state.\u001b[39;00m\n\u001b[1;32m    195\u001b[0m   \u001b[39mwhile\u001b[39;00m stack:\n",
      "File \u001b[0;32m~/opt/anaconda3/envs/ML/lib/python3.11/site-packages/jax/_src/dispatch.py:216\u001b[0m, in \u001b[0;36mxla_primitive_callable.<locals>.prim_fun\u001b[0;34m(*args)\u001b[0m\n\u001b[1;32m    215\u001b[0m \u001b[39mdef\u001b[39;00m \u001b[39mprim_fun\u001b[39m(\u001b[39m*\u001b[39margs):\n\u001b[0;32m--> 216\u001b[0m   out \u001b[39m=\u001b[39m prim\u001b[39m.\u001b[39;49mbind(\u001b[39m*\u001b[39;49margs, \u001b[39m*\u001b[39;49m\u001b[39m*\u001b[39;49mparams)\n\u001b[1;32m    217\u001b[0m   \u001b[39mif\u001b[39;00m prim\u001b[39m.\u001b[39mmultiple_results:\n\u001b[1;32m    218\u001b[0m     \u001b[39mreturn\u001b[39;00m out\n",
      "File \u001b[0;32m~/opt/anaconda3/envs/ML/lib/python3.11/site-packages/jax/_src/core.py:386\u001b[0m, in \u001b[0;36mPrimitive.bind\u001b[0;34m(self, *args, **params)\u001b[0m\n\u001b[1;32m    383\u001b[0m \u001b[39mdef\u001b[39;00m \u001b[39mbind\u001b[39m(\u001b[39mself\u001b[39m, \u001b[39m*\u001b[39margs, \u001b[39m*\u001b[39m\u001b[39m*\u001b[39mparams):\n\u001b[1;32m    384\u001b[0m   \u001b[39massert\u001b[39;00m (\u001b[39mnot\u001b[39;00m config\u001b[39m.\u001b[39mjax_enable_checks \u001b[39mor\u001b[39;00m\n\u001b[1;32m    385\u001b[0m           \u001b[39mall\u001b[39m(\u001b[39misinstance\u001b[39m(arg, Tracer) \u001b[39mor\u001b[39;00m valid_jaxtype(arg) \u001b[39mfor\u001b[39;00m arg \u001b[39min\u001b[39;00m args)), args\n\u001b[0;32m--> 386\u001b[0m   \u001b[39mreturn\u001b[39;00m \u001b[39mself\u001b[39;49m\u001b[39m.\u001b[39;49mbind_with_trace(find_top_trace(args), args, params)\n",
      "File \u001b[0;32m~/opt/anaconda3/envs/ML/lib/python3.11/site-packages/jax/_src/core.py:389\u001b[0m, in \u001b[0;36mPrimitive.bind_with_trace\u001b[0;34m(self, trace, args, params)\u001b[0m\n\u001b[1;32m    388\u001b[0m \u001b[39mdef\u001b[39;00m \u001b[39mbind_with_trace\u001b[39m(\u001b[39mself\u001b[39m, trace, args, params):\n\u001b[0;32m--> 389\u001b[0m   out \u001b[39m=\u001b[39m trace\u001b[39m.\u001b[39;49mprocess_primitive(\u001b[39mself\u001b[39;49m, \u001b[39mmap\u001b[39;49m(trace\u001b[39m.\u001b[39;49mfull_raise, args), params)\n\u001b[1;32m    390\u001b[0m   \u001b[39mreturn\u001b[39;00m \u001b[39mmap\u001b[39m(full_lower, out) \u001b[39mif\u001b[39;00m \u001b[39mself\u001b[39m\u001b[39m.\u001b[39mmultiple_results \u001b[39melse\u001b[39;00m full_lower(out)\n",
      "File \u001b[0;32m~/opt/anaconda3/envs/ML/lib/python3.11/site-packages/jax/_src/interpreters/partial_eval.py:1855\u001b[0m, in \u001b[0;36mDynamicJaxprTrace.process_primitive\u001b[0;34m(self, primitive, tracers, params)\u001b[0m\n\u001b[1;32m   1853\u001b[0m \u001b[39mif\u001b[39;00m primitive \u001b[39min\u001b[39;00m custom_staging_rules:\n\u001b[1;32m   1854\u001b[0m   \u001b[39mreturn\u001b[39;00m custom_staging_rules[primitive](\u001b[39mself\u001b[39m, \u001b[39m*\u001b[39mtracers, \u001b[39m*\u001b[39m\u001b[39m*\u001b[39mparams)\n\u001b[0;32m-> 1855\u001b[0m \u001b[39mreturn\u001b[39;00m \u001b[39mself\u001b[39;49m\u001b[39m.\u001b[39;49mdefault_process_primitive(primitive, tracers, params)\n",
      "File \u001b[0;32m~/opt/anaconda3/envs/ML/lib/python3.11/site-packages/jax/_src/interpreters/partial_eval.py:1859\u001b[0m, in \u001b[0;36mDynamicJaxprTrace.default_process_primitive\u001b[0;34m(self, primitive, tracers, params)\u001b[0m\n\u001b[1;32m   1857\u001b[0m \u001b[39mdef\u001b[39;00m \u001b[39mdefault_process_primitive\u001b[39m(\u001b[39mself\u001b[39m, primitive, tracers, params):\n\u001b[1;32m   1858\u001b[0m   avals \u001b[39m=\u001b[39m [t\u001b[39m.\u001b[39maval \u001b[39mfor\u001b[39;00m t \u001b[39min\u001b[39;00m tracers]\n\u001b[0;32m-> 1859\u001b[0m   out_avals, effects \u001b[39m=\u001b[39m primitive\u001b[39m.\u001b[39;49mabstract_eval(\u001b[39m*\u001b[39;49mavals, \u001b[39m*\u001b[39;49m\u001b[39m*\u001b[39;49mparams)\n\u001b[1;32m   1860\u001b[0m   \u001b[39m# == serve as a \"not xor\" here.\u001b[39;00m\n\u001b[1;32m   1861\u001b[0m   \u001b[39mif\u001b[39;00m \u001b[39mnot\u001b[39;00m (\u001b[39misinstance\u001b[39m(out_avals, (\u001b[39mtuple\u001b[39m,\u001b[39mlist\u001b[39m)) \u001b[39m==\u001b[39m primitive\u001b[39m.\u001b[39mmultiple_results):\n",
      "File \u001b[0;32m~/opt/anaconda3/envs/ML/lib/python3.11/site-packages/jax/_src/core.py:422\u001b[0m, in \u001b[0;36m_effect_free_abstract_eval.<locals>.abstract_eval_\u001b[0;34m(*args, **kwargs)\u001b[0m\n\u001b[1;32m    421\u001b[0m \u001b[39mdef\u001b[39;00m \u001b[39mabstract_eval_\u001b[39m(\u001b[39m*\u001b[39margs, \u001b[39m*\u001b[39m\u001b[39m*\u001b[39mkwargs):\n\u001b[0;32m--> 422\u001b[0m   \u001b[39mreturn\u001b[39;00m abstract_eval(\u001b[39m*\u001b[39;49margs, \u001b[39m*\u001b[39;49m\u001b[39m*\u001b[39;49mkwargs), no_effects\n",
      "File \u001b[0;32m~/opt/anaconda3/envs/ML/lib/python3.11/site-packages/jax/_src/lax/utils.py:63\u001b[0m, in \u001b[0;36mstandard_abstract_eval\u001b[0;34m(prim, shape_rule, dtype_rule, weak_type_rule, named_shape_rule, *avals, **kwargs)\u001b[0m\n\u001b[1;32m     61\u001b[0m   \u001b[39mreturn\u001b[39;00m core\u001b[39m.\u001b[39mConcreteArray(out\u001b[39m.\u001b[39mdtype, out, weak_type\u001b[39m=\u001b[39mweak_type)\n\u001b[1;32m     62\u001b[0m \u001b[39melif\u001b[39;00m least_specialized \u001b[39mis\u001b[39;00m core\u001b[39m.\u001b[39mShapedArray:\n\u001b[0;32m---> 63\u001b[0m   \u001b[39mreturn\u001b[39;00m core\u001b[39m.\u001b[39mShapedArray(shape_rule(\u001b[39m*\u001b[39;49mavals, \u001b[39m*\u001b[39;49m\u001b[39m*\u001b[39;49mkwargs),\n\u001b[1;32m     64\u001b[0m                           dtype_rule(\u001b[39m*\u001b[39mavals, \u001b[39m*\u001b[39m\u001b[39m*\u001b[39mkwargs), weak_type\u001b[39m=\u001b[39mweak_type,\n\u001b[1;32m     65\u001b[0m                           named_shape\u001b[39m=\u001b[39mnamed_shape_rule(\u001b[39m*\u001b[39mavals, \u001b[39m*\u001b[39m\u001b[39m*\u001b[39mkwargs))\n\u001b[1;32m     66\u001b[0m \u001b[39melif\u001b[39;00m least_specialized \u001b[39mis\u001b[39;00m core\u001b[39m.\u001b[39mDShapedArray:\n\u001b[1;32m     67\u001b[0m   shape \u001b[39m=\u001b[39m shape_rule(\u001b[39m*\u001b[39mavals, \u001b[39m*\u001b[39m\u001b[39m*\u001b[39mkwargs)\n",
      "File \u001b[0;32m~/opt/anaconda3/envs/ML/lib/python3.11/site-packages/jax/_src/lax/slicing.py:1526\u001b[0m, in \u001b[0;36m_gather_shape_rule\u001b[0;34m(operand, indices, dimension_numbers, slice_sizes, unique_indices, indices_are_sorted, mode, fill_value)\u001b[0m\n\u001b[1;32m   1522\u001b[0m   corresponding_input_size \u001b[39m=\u001b[39m operand\u001b[39m.\u001b[39mshape[i]\n\u001b[1;32m   1524\u001b[0m   \u001b[39mif\u001b[39;00m \u001b[39mnot\u001b[39;00m (slice_size \u001b[39m>\u001b[39m\u001b[39m=\u001b[39m \u001b[39m0\u001b[39m \u001b[39mand\u001b[39;00m\n\u001b[1;32m   1525\u001b[0m           corresponding_input_size \u001b[39m>\u001b[39m\u001b[39m=\u001b[39m slice_size):\n\u001b[0;32m-> 1526\u001b[0m     \u001b[39mraise\u001b[39;00m \u001b[39mTypeError\u001b[39;00m(\u001b[39mf\u001b[39m\u001b[39m\"\u001b[39m\u001b[39mSlice size at index \u001b[39m\u001b[39m{\u001b[39;00mi\u001b[39m}\u001b[39;00m\u001b[39m in gather op is out of range, \u001b[39m\u001b[39m\"\u001b[39m\n\u001b[1;32m   1527\u001b[0m                     \u001b[39mf\u001b[39m\u001b[39m\"\u001b[39m\u001b[39mmust be within [0, \u001b[39m\u001b[39m{\u001b[39;00mcorresponding_input_size\u001b[39m}\u001b[39;00m\u001b[39m + 1), \u001b[39m\u001b[39m\"\u001b[39m\n\u001b[1;32m   1528\u001b[0m                     \u001b[39mf\u001b[39m\u001b[39m\"\u001b[39m\u001b[39mgot \u001b[39m\u001b[39m{\u001b[39;00mslice_size\u001b[39m}\u001b[39;00m\u001b[39m.\u001b[39m\u001b[39m\"\u001b[39m)\n\u001b[1;32m   1530\u001b[0m \u001b[39mfor\u001b[39;00m i \u001b[39min\u001b[39;00m \u001b[39mrange\u001b[39m(\u001b[39mlen\u001b[39m(collapsed_slice_dims)):\n\u001b[1;32m   1531\u001b[0m   bound \u001b[39m=\u001b[39m slice_sizes[collapsed_slice_dims[i]]\n",
      "\u001b[0;31mTypeError\u001b[0m: Slice size at index 0 in gather op is out of range, must be within [0, 0 + 1), got 1."
     ]
    }
   ],
   "source": [
    "search_config = SearchConfig(key=jax.random.PRNGKey(0), num_configs=1, num_hiddens=FixedParam(4), init_scale=FixedParam(0.1))\n",
    "params = search_config.__getitem__(0)\n",
    "simulate(**params)"
   ]
  },
  {
   "cell_type": "markdown",
   "metadata": {},
   "source": [
    "## Dataset"
   ]
  },
  {
   "cell_type": "code",
   "execution_count": 6,
   "metadata": {},
   "outputs": [
    {
     "ename": "TypeError",
     "evalue": "MLP.__init__() got an unexpected keyword argument 'seed'",
     "output_type": "error",
     "traceback": [
      "\u001b[0;31m---------------------------------------------------------------------------\u001b[0m",
      "\u001b[0;31mTypeError\u001b[0m                                 Traceback (most recent call last)",
      "\u001b[1;32m/Users/leonlufkin/Documents/GitHub/Localization/sandbox.ipynb Cell 5\u001b[0m line \u001b[0;36m1\n\u001b[1;32m      <a href='vscode-notebook-cell:/Users/leonlufkin/Documents/GitHub/Localization/sandbox.ipynb#W1sZmlsZQ%3D%3D?line=0'>1</a>\u001b[0m key \u001b[39m=\u001b[39m jax\u001b[39m.\u001b[39mrandom\u001b[39m.\u001b[39mPRNGKey(\u001b[39m0\u001b[39m)\n\u001b[1;32m      <a href='vscode-notebook-cell:/Users/leonlufkin/Documents/GitHub/Localization/sandbox.ipynb#W1sZmlsZQ%3D%3D?line=1'>2</a>\u001b[0m \u001b[39m# model = SimpleNet( #MLP(\u001b[39;00m\n\u001b[1;32m      <a href='vscode-notebook-cell:/Users/leonlufkin/Documents/GitHub/Localization/sandbox.ipynb#W1sZmlsZQ%3D%3D?line=2'>3</a>\u001b[0m \u001b[39m#     in_features=2,\u001b[39;00m\n\u001b[1;32m      <a href='vscode-notebook-cell:/Users/leonlufkin/Documents/GitHub/Localization/sandbox.ipynb#W1sZmlsZQ%3D%3D?line=3'>4</a>\u001b[0m \u001b[39m#     hidden_features=4,\u001b[39;00m\n\u001b[0;32m   (...)\u001b[0m\n\u001b[1;32m      <a href='vscode-notebook-cell:/Users/leonlufkin/Documents/GitHub/Localization/sandbox.ipynb#W1sZmlsZQ%3D%3D?line=8'>9</a>\u001b[0m \u001b[39m#     init_scale=1.\u001b[39;00m\n\u001b[1;32m     <a href='vscode-notebook-cell:/Users/leonlufkin/Documents/GitHub/Localization/sandbox.ipynb#W1sZmlsZQ%3D%3D?line=9'>10</a>\u001b[0m \u001b[39m# )\u001b[39;00m\n\u001b[0;32m---> <a href='vscode-notebook-cell:/Users/leonlufkin/Documents/GitHub/Localization/sandbox.ipynb#W1sZmlsZQ%3D%3D?line=10'>11</a>\u001b[0m model \u001b[39m=\u001b[39m MLP(\u001b[39m*\u001b[39;49m\u001b[39m*\u001b[39;49mparams)\n",
      "File \u001b[0;32m~/opt/anaconda3/envs/ML/lib/python3.11/site-packages/equinox/_module.py:186\u001b[0m, in \u001b[0;36m_ModuleMeta.__call__\u001b[0;34m(cls, *args, **kwargs)\u001b[0m\n\u001b[1;32m    183\u001b[0m \u001b[39mdef\u001b[39;00m \u001b[39m__call__\u001b[39m(\u001b[39mcls\u001b[39m, \u001b[39m*\u001b[39margs, \u001b[39m*\u001b[39m\u001b[39m*\u001b[39mkwargs):\n\u001b[1;32m    184\u001b[0m     \u001b[39m# Defreeze it during __init__\u001b[39;00m\n\u001b[1;32m    185\u001b[0m     initable_cls \u001b[39m=\u001b[39m _make_initable(\u001b[39mcls\u001b[39m, wraps\u001b[39m=\u001b[39m\u001b[39mFalse\u001b[39;00m)\n\u001b[0;32m--> 186\u001b[0m     \u001b[39mself\u001b[39m \u001b[39m=\u001b[39m \u001b[39msuper\u001b[39;49m(_ModuleMeta, initable_cls)\u001b[39m.\u001b[39;49m\u001b[39m__call__\u001b[39;49m(\u001b[39m*\u001b[39;49margs, \u001b[39m*\u001b[39;49m\u001b[39m*\u001b[39;49mkwargs)\n\u001b[1;32m    187\u001b[0m     missing_names \u001b[39m=\u001b[39m {\n\u001b[1;32m    188\u001b[0m         field\u001b[39m.\u001b[39mname\n\u001b[1;32m    189\u001b[0m         \u001b[39mfor\u001b[39;00m field \u001b[39min\u001b[39;00m dataclasses\u001b[39m.\u001b[39mfields(\u001b[39mcls\u001b[39m)  \u001b[39m# pyright: ignore\u001b[39;00m\n\u001b[1;32m    190\u001b[0m         \u001b[39mif\u001b[39;00m field\u001b[39m.\u001b[39minit \u001b[39mand\u001b[39;00m field\u001b[39m.\u001b[39mname \u001b[39mnot\u001b[39;00m \u001b[39min\u001b[39;00m \u001b[39mdir\u001b[39m(\u001b[39mself\u001b[39m)\n\u001b[1;32m    191\u001b[0m     }\n\u001b[1;32m    192\u001b[0m     \u001b[39mif\u001b[39;00m \u001b[39mlen\u001b[39m(missing_names):\n",
      "File \u001b[0;32m~/opt/anaconda3/envs/ML/lib/python3.11/site-packages/equinox/_better_abstract.py:280\u001b[0m, in \u001b[0;36mABCMeta.__call__\u001b[0;34m(cls, *args, **kwargs)\u001b[0m\n\u001b[1;32m    275\u001b[0m     abstract_class_vars \u001b[39m=\u001b[39m \u001b[39mset\u001b[39m(\u001b[39mcls\u001b[39m\u001b[39m.\u001b[39m__abstractclassvars__)  \u001b[39m# pyright: ignore\u001b[39;00m\n\u001b[1;32m    276\u001b[0m     \u001b[39mraise\u001b[39;00m \u001b[39mTypeError\u001b[39;00m(\n\u001b[1;32m    277\u001b[0m         \u001b[39mf\u001b[39m\u001b[39m\"\u001b[39m\u001b[39mCan\u001b[39m\u001b[39m'\u001b[39m\u001b[39mt instantiate abstract class \u001b[39m\u001b[39m{\u001b[39;00m\u001b[39mcls\u001b[39m\u001b[39m.\u001b[39m\u001b[39m__name__\u001b[39m\u001b[39m}\u001b[39;00m\u001b[39m with abstract class \u001b[39m\u001b[39m\"\u001b[39m\n\u001b[1;32m    278\u001b[0m         \u001b[39mf\u001b[39m\u001b[39m\"\u001b[39m\u001b[39mattributes \u001b[39m\u001b[39m{\u001b[39;00mabstract_class_vars\u001b[39m}\u001b[39;00m\u001b[39m\"\u001b[39m\n\u001b[1;32m    279\u001b[0m     )\n\u001b[0;32m--> 280\u001b[0m \u001b[39mself\u001b[39m \u001b[39m=\u001b[39m \u001b[39msuper\u001b[39;49m()\u001b[39m.\u001b[39;49m\u001b[39m__call__\u001b[39;49m(\u001b[39m*\u001b[39;49margs, \u001b[39m*\u001b[39;49m\u001b[39m*\u001b[39;49mkwargs)\n\u001b[1;32m    281\u001b[0m abstract_vars \u001b[39m=\u001b[39m \u001b[39mset\u001b[39m()\n\u001b[1;32m    282\u001b[0m \u001b[39mfor\u001b[39;00m name \u001b[39min\u001b[39;00m \u001b[39mcls\u001b[39m\u001b[39m.\u001b[39m__abstractvars__:  \u001b[39m# pyright: ignore\u001b[39;00m\n\u001b[1;32m    283\u001b[0m     \u001b[39m# Deliberately not doing `if name in self.__dict__` to allow for use of\u001b[39;00m\n\u001b[1;32m    284\u001b[0m     \u001b[39m# properties (which are actually class attributes) to override abstract\u001b[39;00m\n\u001b[1;32m    285\u001b[0m     \u001b[39m# instance variables.\u001b[39;00m\n",
      "\u001b[0;31mTypeError\u001b[0m: MLP.__init__() got an unexpected keyword argument 'seed'"
     ]
    }
   ],
   "source": [
    "key = jax.random.PRNGKey(0)\n",
    "# model = SimpleNet( #MLP(\n",
    "#     in_features=2,\n",
    "#     hidden_features=4,\n",
    "#     out_features=1,\n",
    "#     # act=jnp.tanh,\n",
    "#     # drop=0.,\n",
    "#     key=key,\n",
    "#     init_scale=1.\n",
    "# )\n",
    "model = MLP(**params)"
   ]
  },
  {
   "cell_type": "code",
   "execution_count": 3,
   "metadata": {},
   "outputs": [
    {
     "data": {
      "text/plain": [
       "Array([0.33544254], dtype=float32)"
      ]
     },
     "execution_count": 3,
     "metadata": {},
     "output_type": "execute_result"
    }
   ],
   "source": [
    "batch = jnp.ones(2)\n",
    "(key,) = jax.random.split(key, 1)\n",
    "model(batch, key=key)"
   ]
  },
  {
   "cell_type": "code",
   "execution_count": null,
   "metadata": {},
   "outputs": [],
   "source": []
  }
 ],
 "metadata": {
  "kernelspec": {
   "display_name": "ML",
   "language": "python",
   "name": "python3"
  },
  "language_info": {
   "codemirror_mode": {
    "name": "ipython",
    "version": 3
   },
   "file_extension": ".py",
   "mimetype": "text/x-python",
   "name": "python",
   "nbconvert_exporter": "python",
   "pygments_lexer": "ipython3",
   "version": "3.11.4"
  },
  "orig_nbformat": 4
 },
 "nbformat": 4,
 "nbformat_minor": 2
}
