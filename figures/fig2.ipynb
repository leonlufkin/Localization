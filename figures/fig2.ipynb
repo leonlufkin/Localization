{
 "cells": [
  {
   "cell_type": "markdown",
   "metadata": {},
   "source": [
    "## Data visualization"
   ]
  },
  {
   "cell_type": "code",
   "execution_count": 24,
   "metadata": {},
   "outputs": [],
   "source": [
    "import numpy as np\n",
    "import jax\n",
    "import jax.numpy as jnp\n",
    "import optax\n",
    "import matplotlib.pyplot as plt\n",
    "from localization import datasets\n",
    "from localization import models\n",
    "from localization import samplers\n",
    "from localization.experiments import supervise, autoencode, simulate, simulate_or_load, make_key\n",
    "from localization.utils import ipr, plot_receptive_fields, plot_rf_evolution, build_gaussian_covariance, build_non_gaussian_covariance, entropy_sort, build_DRT\n",
    "from scipy.special import erf\n",
    "from tqdm import tqdm\n",
    "import itertools\n",
    "import cblind as cb"
   ]
  },
  {
   "cell_type": "code",
   "execution_count": 35,
   "metadata": {},
   "outputs": [],
   "source": [
    "config = dict(\n",
    "    key=jax.random.PRNGKey(0),\n",
    "    num_dimensions=100, \n",
    "    dim=1,\n",
    "    num_exemplars=10000,\n",
    "    xi=(1,),\n",
    "    # gain=100,\n",
    "    # dataset_cls=datasets.NortaDataset,\n",
    "    # marginal_qdf=datasets.LaplaceQDF(),\n",
    "    # marginal_qdf=datasets.GaussianQDF(),\n",
    "    # marginal_qdf=datasets.UniformQDF(),\n",
    "    # marginal_qdf=datasets.BernoulliQDF(),\n",
    "    # marginal_qdf=datasets.AlgQDF(4),\n",
    "    # dataset_cls=datasets.NonlinearGPDataset,\n",
    "    adjust=(-1.0, 1.0),\n",
    "    class_proportion=0.5,\n",
    ")"
   ]
  },
  {
   "cell_type": "markdown",
   "metadata": {},
   "source": [
    "### Ising Model"
   ]
  },
  {
   "cell_type": "code",
   "execution_count": 36,
   "metadata": {},
   "outputs": [],
   "source": [
    "config_ = config.copy(); config_['xi'] = (0.3,) # (1.2,)\n",
    "dataset = datasets.IsingDataset(**config_)\n",
    "x_ising, _ = dataset[:10000]\n",
    "cov_ising = jnp.cov(x_ising.T)\n",
    "hist_ising, bins_ising = np.histogram(x_ising, bins=20, range=(-1.5,1.5), density=False)\n",
    "hist_ising = hist_ising / hist_ising.sum()"
   ]
  },
  {
   "cell_type": "markdown",
   "metadata": {},
   "source": [
    "### Gaussian"
   ]
  },
  {
   "cell_type": "code",
   "execution_count": 37,
   "metadata": {},
   "outputs": [],
   "source": [
    "dataset = datasets.NonlinearGPCountDataset(gain=0.01, **config)\n",
    "x_gaussian, _ = dataset[:10000]\n",
    "cov_gaussian = jnp.cov(x_gaussian.T)\n",
    "hist_gaussian, bins_gaussian = np.histogram(x_gaussian, bins=100, density=False)\n",
    "hist_gaussian = hist_gaussian / hist_gaussian.sum()"
   ]
  },
  {
   "cell_type": "markdown",
   "metadata": {},
   "source": [
    "### Alg(5)"
   ]
  },
  {
   "cell_type": "code",
   "execution_count": 38,
   "metadata": {},
   "outputs": [
    {
     "name": "stdout",
     "output_type": "stream",
     "text": [
      "Approximate standard deviation: 0.6950598719782084\n"
     ]
    }
   ],
   "source": [
    "dataset = datasets.NortaDataset(marginal_qdf=datasets.AlgQDF(k=5), **config)\n",
    "x_alg, _ = dataset[:10000]\n",
    "cov_alg = jnp.cov(x_alg.T)\n",
    "hist_alg, bins_alg = np.histogram(x_alg, bins=100, range=(-5,5), density=False)\n",
    "hist_alg = hist_alg / hist_alg.sum()"
   ]
  },
  {
   "cell_type": "markdown",
   "metadata": {},
   "source": [
    "### Plotting"
   ]
  },
  {
   "cell_type": "code",
   "execution_count": 39,
   "metadata": {},
   "outputs": [
    {
     "name": "stderr",
     "output_type": "stream",
     "text": [
      "/var/folders/gq/3xlhh9496_j9xpjb7tkbqh280000gn/T/ipykernel_49581/651371235.py:20: DeprecationWarning: cblind.cbmap is deprecated. Please use matplotlib.colormaps.get_cmap instead, or matplotlib.pyplot.get_cmap if you need to specify nbin (default is 256)\n",
      "  im = ax.imshow(cov, cmap=cb.cbmap('cb.solstice'), vmin=-1, vmax=1)\n",
      "/var/folders/gq/3xlhh9496_j9xpjb7tkbqh280000gn/T/ipykernel_49581/651371235.py:20: DeprecationWarning: cblind.cbmap is deprecated. Please use matplotlib.colormaps.get_cmap instead, or matplotlib.pyplot.get_cmap if you need to specify nbin (default is 256)\n",
      "  im = ax.imshow(cov, cmap=cb.cbmap('cb.solstice'), vmin=-1, vmax=1)\n",
      "/var/folders/gq/3xlhh9496_j9xpjb7tkbqh280000gn/T/ipykernel_49581/651371235.py:20: DeprecationWarning: cblind.cbmap is deprecated. Please use matplotlib.colormaps.get_cmap instead, or matplotlib.pyplot.get_cmap if you need to specify nbin (default is 256)\n",
      "  im = ax.imshow(cov, cmap=cb.cbmap('cb.solstice'), vmin=-1, vmax=1)\n"
     ]
    }
   ],
   "source": [
    "for model, (x, cov, hist, bins) in zip(\n",
    "    ['ising', 'gaussian', 'alg5'],\n",
    "    [(x_ising, cov_ising, hist_ising, bins_ising), \n",
    "     (x_gaussian, cov_gaussian, hist_gaussian, bins_gaussian),\n",
    "     (x_alg, cov_alg, hist_alg, bins_alg)]\n",
    "):\n",
    "    \n",
    "    # Sample\n",
    "    idx = 1 if model == 'alg5' else 0 # just so gaussian and alg5 don't look misleading similar\n",
    "    fig, ax = plt.subplots(figsize=(4,2))\n",
    "    ax.plot(x[idx], color='#00356b'); ax.set_xticks([])\n",
    "    ax.spines['top'].set_visible(False)\n",
    "    ax.spines['right'].set_visible(False)\n",
    "    if model == 'ising': ax.set_yticks([-1, -0.5, 0, 0.5, 1] )\n",
    "    fig.savefig(f'fig2/samples/{model}.pdf', bbox_inches='tight')\n",
    "    plt.close(fig)\n",
    "    \n",
    "    # Covariance\n",
    "    fig, ax = plt.subplots(figsize=(4,4))\n",
    "    im = ax.imshow(cov, cmap=cb.cbmap('cb.solstice'), vmin=-1, vmax=1)\n",
    "    ax.set_xticks([]); ax.set_yticks([])\n",
    "    ax.spines['top'].set_visible(False)\n",
    "    ax.spines['right'].set_visible(False)\n",
    "    ax.spines['bottom'].set_visible(False)\n",
    "    ax.spines['left'].set_visible(False)\n",
    "    fig.savefig(f'fig2/cov/{model}.pdf', bbox_inches='tight')\n",
    "    plt.close(fig)\n",
    "    \n",
    "    # Marginal\n",
    "    fig, ax = plt.subplots(figsize=(4,2))\n",
    "    bin_width = bins[1] - bins[0]  # Calculate the width of each bin\n",
    "    ax.bar(bins[:-1], hist, width=bin_width, align='edge', color='#00356b')\n",
    "    ax.set_yticks([0.0, 0.2, 0.4, 0.6] if model == 'ising' else [0.0, 0.02, 0.04])\n",
    "    ax.spines['top'].set_visible(False)\n",
    "    ax.spines['right'].set_visible(False)\n",
    "    fig.savefig(f'fig2/marginal/{model}.pdf', bbox_inches='tight')\n",
    "    plt.close(fig)"
   ]
  },
  {
   "cell_type": "code",
   "execution_count": null,
   "metadata": {},
   "outputs": [],
   "source": []
  }
 ],
 "metadata": {
  "kernelspec": {
   "display_name": "jax-pr",
   "language": "python",
   "name": "python3"
  },
  "language_info": {
   "codemirror_mode": {
    "name": "ipython",
    "version": 3
   },
   "file_extension": ".py",
   "mimetype": "text/x-python",
   "name": "python",
   "nbconvert_exporter": "python",
   "pygments_lexer": "ipython3",
   "version": "3.11.5"
  }
 },
 "nbformat": 4,
 "nbformat_minor": 2
}
