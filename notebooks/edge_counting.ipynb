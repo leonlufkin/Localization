{
 "cells": [
  {
   "cell_type": "code",
   "execution_count": 1,
   "metadata": {},
   "outputs": [],
   "source": [
    "import numpy as np\n",
    "import jax\n",
    "import jax.numpy as jnp\n",
    "import optax\n",
    "import matplotlib.pyplot as plt\n",
    "from localization import datasets\n",
    "from localization import models\n",
    "from localization import samplers\n",
    "from localization.experiments import supervise, autoencode, simulate, simulate_or_load, make_key\n",
    "from localization.utils import ipr, plot_receptive_fields, plot_rf_evolution, build_gaussian_covariance, build_non_gaussian_covariance, entropy_sort, build_DRT\n",
    "from scipy.special import erf\n",
    "from tqdm import tqdm\n",
    "import itertools\n",
    "\n",
    "gaussian_cdf = lambda x: 0.5 * (erf(x/np.sqrt(2)) + 1)"
   ]
  },
  {
   "cell_type": "code",
   "execution_count": 2,
   "metadata": {},
   "outputs": [],
   "source": [
    "# define config\n",
    "config = dict(\n",
    "seed=0,\n",
    "num_dimensions=40,\n",
    "dim=1,\n",
    "# num_hiddens=60,\n",
    "# num_hiddens=10,\n",
    "gain=100,\n",
    "# gain=0.01,\n",
    "init_scale=0.1,\n",
    "activation='relu',\n",
    "model_cls=models.SimpleNet,\n",
    "# model_cls=models.MLP,\n",
    "use_bias=False,\n",
    "optimizer_fn=optax.sgd,\n",
    "# learning_rate=0.1,#3.0,\n",
    "learning_rate=0.3,\n",
    "batch_size=1000,\n",
    "num_epochs=1000,\n",
    "# datset_cls=datasets.NonlinearGPDataset,\n",
    "dataset_cls=datasets.NonlinearGPCountDataset,\n",
    "# xi=(5, 4,),\n",
    "# xi=(0.5, 0.4,),\n",
    "# xi=(5, 4, 0.3, 0.2, 0.1,),\n",
    "# xi=(3, 0.1),\n",
    "num_steps=1000,\n",
    "adjust=(-1.0, 1.0),\n",
    "class_proportion=0.5,\n",
    "sampler_cls=samplers.EpochSampler,\n",
    "init_fn=models.xavier_normal_init,\n",
    "loss_fn='mse',\n",
    "save_=True,\n",
    "evaluation_interval=100,\n",
    ")\n",
    "\n",
    "# log config to wandb\n",
    "wandb_ = False"
   ]
  },
  {
   "cell_type": "code",
   "execution_count": 11,
   "metadata": {},
   "outputs": [
    {
     "name": "stderr",
     "output_type": "stream",
     "text": [
      "1it [00:00,  5.85it/s]"
     ]
    },
    {
     "name": "stdout",
     "output_type": "stream",
     "text": [
      "0.01 1 (3.0, 0.1)\n",
      "Already simulated\n",
      "0.01 1 (0.1, 3)\n",
      "Already simulated\n"
     ]
    },
    {
     "name": "stderr",
     "output_type": "stream",
     "text": [
      "3it [00:00,  6.89it/s]"
     ]
    },
    {
     "name": "stdout",
     "output_type": "stream",
     "text": [
      "0.01 1 (3, 3)\n",
      "Already simulated\n",
      "0.01 1 (0.1, 0.1)\n",
      "Already simulated\n"
     ]
    },
    {
     "name": "stderr",
     "output_type": "stream",
     "text": [
      "5it [00:00,  6.75it/s]"
     ]
    },
    {
     "name": "stdout",
     "output_type": "stream",
     "text": [
      "0.01 1 (5, 1, 0.1)\n",
      "Already simulated\n",
      "0.01 2 (3.0, 0.1)\n",
      "Already simulated\n"
     ]
    },
    {
     "name": "stderr",
     "output_type": "stream",
     "text": [
      "7it [00:00,  7.85it/s]"
     ]
    },
    {
     "name": "stdout",
     "output_type": "stream",
     "text": [
      "0.01 2 (0.1, 3)\n",
      "Already simulated\n",
      "0.01 2 (3, 3)\n",
      "Already simulated\n"
     ]
    },
    {
     "name": "stderr",
     "output_type": "stream",
     "text": [
      "9it [00:01,  7.48it/s]"
     ]
    },
    {
     "name": "stdout",
     "output_type": "stream",
     "text": [
      "0.01 2 (0.1, 0.1)\n",
      "Already simulated\n",
      "0.01 2 (5, 1, 0.1)\n",
      "Already simulated\n"
     ]
    },
    {
     "name": "stderr",
     "output_type": "stream",
     "text": [
      "11it [00:01,  7.11it/s]"
     ]
    },
    {
     "name": "stdout",
     "output_type": "stream",
     "text": [
      "0.01 40 (3.0, 0.1)\n",
      "Already simulated\n",
      "0.01 40 (0.1, 3)\n",
      "Already simulated\n"
     ]
    },
    {
     "name": "stderr",
     "output_type": "stream",
     "text": [
      "13it [00:01,  7.29it/s]"
     ]
    },
    {
     "name": "stdout",
     "output_type": "stream",
     "text": [
      "0.01 40 (3, 3)\n",
      "Already simulated\n",
      "0.01 40 (0.1, 0.1)\n",
      "Already simulated\n"
     ]
    },
    {
     "name": "stderr",
     "output_type": "stream",
     "text": [
      "15it [00:02,  7.87it/s]"
     ]
    },
    {
     "name": "stdout",
     "output_type": "stream",
     "text": [
      "0.01 40 (5, 1, 0.1)\n",
      "Already simulated\n",
      "0.01 100 (3.0, 0.1)\n",
      "Already simulated\n"
     ]
    },
    {
     "name": "stderr",
     "output_type": "stream",
     "text": [
      "16it [00:02,  7.96it/s]"
     ]
    },
    {
     "name": "stdout",
     "output_type": "stream",
     "text": [
      "0.01 100 (0.1, 3)\n",
      "Already simulated\n"
     ]
    },
    {
     "name": "stderr",
     "output_type": "stream",
     "text": [
      "17it [00:02,  4.72it/s]"
     ]
    },
    {
     "name": "stdout",
     "output_type": "stream",
     "text": [
      "0.01 100 (3, 3)\n",
      "Already simulated\n"
     ]
    },
    {
     "name": "stderr",
     "output_type": "stream",
     "text": [
      "19it [00:02,  4.99it/s]"
     ]
    },
    {
     "name": "stdout",
     "output_type": "stream",
     "text": [
      "0.01 100 (0.1, 0.1)\n",
      "Already simulated\n",
      "0.01 100 (5, 1, 0.1)\n",
      "Already simulated\n"
     ]
    },
    {
     "name": "stderr",
     "output_type": "stream",
     "text": [
      "21it [00:03,  5.30it/s]"
     ]
    },
    {
     "name": "stdout",
     "output_type": "stream",
     "text": [
      "100 1 (3.0, 0.1)\n",
      "Already simulated\n",
      "100 1 (0.1, 3)\n",
      "Already simulated\n"
     ]
    },
    {
     "name": "stderr",
     "output_type": "stream",
     "text": [
      "23it [00:03,  5.78it/s]"
     ]
    },
    {
     "name": "stdout",
     "output_type": "stream",
     "text": [
      "100 1 (3, 3)\n",
      "Already simulated\n",
      "100 1 (0.1, 0.1)\n",
      "Already simulated\n"
     ]
    },
    {
     "name": "stderr",
     "output_type": "stream",
     "text": [
      "25it [00:03,  6.13it/s]"
     ]
    },
    {
     "name": "stdout",
     "output_type": "stream",
     "text": [
      "100 1 (5, 1, 0.1)\n",
      "Already simulated\n",
      "100 2 (3.0, 0.1)\n",
      "Already simulated\n"
     ]
    },
    {
     "name": "stderr",
     "output_type": "stream",
     "text": [
      "27it [00:04,  5.77it/s]"
     ]
    },
    {
     "name": "stdout",
     "output_type": "stream",
     "text": [
      "100 2 (0.1, 3)\n",
      "Already simulated\n",
      "100 2 (3, 3)\n",
      "Already simulated\n"
     ]
    },
    {
     "name": "stderr",
     "output_type": "stream",
     "text": [
      "29it [00:04,  6.37it/s]"
     ]
    },
    {
     "name": "stdout",
     "output_type": "stream",
     "text": [
      "100 2 (0.1, 0.1)\n",
      "Already simulated\n",
      "100 2 (5, 1, 0.1)\n",
      "Already simulated\n"
     ]
    },
    {
     "name": "stderr",
     "output_type": "stream",
     "text": [
      "31it [00:04,  5.98it/s]"
     ]
    },
    {
     "name": "stdout",
     "output_type": "stream",
     "text": [
      "100 40 (3.0, 0.1)\n",
      "Already simulated\n",
      "100 40 (0.1, 3)\n",
      "Already simulated\n"
     ]
    },
    {
     "name": "stderr",
     "output_type": "stream",
     "text": [
      "33it [00:05,  6.12it/s]"
     ]
    },
    {
     "name": "stdout",
     "output_type": "stream",
     "text": [
      "100 40 (3, 3)\n",
      "Already simulated\n",
      "100 40 (0.1, 0.1)\n",
      "Already simulated\n"
     ]
    },
    {
     "name": "stderr",
     "output_type": "stream",
     "text": [
      "35it [00:05,  7.17it/s]"
     ]
    },
    {
     "name": "stdout",
     "output_type": "stream",
     "text": [
      "100 40 (5, 1, 0.1)\n",
      "Already simulated\n",
      "100 100 (3.0, 0.1)\n",
      "Already simulated\n"
     ]
    },
    {
     "name": "stderr",
     "output_type": "stream",
     "text": [
      "37it [00:05,  7.42it/s]"
     ]
    },
    {
     "name": "stdout",
     "output_type": "stream",
     "text": [
      "100 100 (0.1, 3)\n",
      "Already simulated\n",
      "100 100 (3, 3)\n",
      "Already simulated\n"
     ]
    },
    {
     "name": "stderr",
     "output_type": "stream",
     "text": [
      "39it [00:06,  6.43it/s]"
     ]
    },
    {
     "name": "stdout",
     "output_type": "stream",
     "text": [
      "100 100 (0.1, 0.1)\n",
      "Already simulated\n",
      "100 100 (5, 1, 0.1)\n"
     ]
    },
    {
     "name": "stderr",
     "output_type": "stream",
     "text": [
      "40it [00:06,  6.40it/s]"
     ]
    },
    {
     "name": "stdout",
     "output_type": "stream",
     "text": [
      "Already simulated\n"
     ]
    },
    {
     "name": "stderr",
     "output_type": "stream",
     "text": [
      "\n"
     ]
    }
   ],
   "source": [
    "gains = [0.01, 100]\n",
    "hiddens = [1, 2, 40, 100]\n",
    "xis = [(3., 0.1,), (0.1, 3,), (3, 3), (0.1, 0.1), (5, 1, 0.1)]\n",
    "\n",
    "# run it\n",
    "from tqdm import tqdm\n",
    "for (gain, hidden, xi) in tqdm(itertools.product(gains, hiddens, xis)):\n",
    "    print(gain, hidden, xi)\n",
    "    config.update(dict(gain=gain, num_hiddens=hidden, xi=xi))\n",
    "    weights, metrics = simulate_or_load(supervise=True, wandb_=False, **config)\n",
    "    # print(metrics[-1,1])\n",
    "    # _ = plot_receptive_fields(weights[-10:], num_cols=12, figsize=(15, 5), sort_fn=entropy_sort, ind=-1)\n",
    "    fig, axs = plot_rf_evolution(weights[:,[0],:], figsize=(8, 4))\n",
    "    # if gain == 100:\n",
    "    #     break\n",
    "    fig.suptitle(f\"gain={gain}, hidden={hidden}, xi={xi}\")\n",
    "    fig.savefig(f\"../thoughts/edge_counting/gain={gain}_hidden={hidden}_xi={xi}.png\")\n",
    "    plt.close(fig)"
   ]
  },
  {
   "cell_type": "code",
   "execution_count": null,
   "metadata": {},
   "outputs": [],
   "source": []
  }
 ],
 "metadata": {
  "kernelspec": {
   "display_name": "jax-pr",
   "language": "python",
   "name": "python3"
  },
  "language_info": {
   "codemirror_mode": {
    "name": "ipython",
    "version": 3
   },
   "file_extension": ".py",
   "mimetype": "text/x-python",
   "name": "python",
   "nbconvert_exporter": "python",
   "pygments_lexer": "ipython3",
   "version": "3.11.5"
  }
 },
 "nbformat": 4,
 "nbformat_minor": 2
}
